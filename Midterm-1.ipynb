{
 "cells": [
  {
   "cell_type": "markdown",
   "metadata": {},
   "source": [
    "# Hill Climbing and Simulated Annealing\n",
    "\n",
    "## Presented by\n",
    "\n",
    "### Leonardo Monsalvo -- Dylan Primera\n"
   ]
  },
  {
   "cell_type": "code",
   "execution_count": 7,
   "metadata": {},
   "outputs": [],
   "source": [
    "import string, math\n",
    "import numpy as np\n",
    "\n",
    "'''\n",
    "Returns an adjacency matrix from a tsp dataset.\n",
    "'''\n",
    "def distancesFromCoords():\n",
    "    f = open('kroA100.tsp')\n",
    "    #Reemplazar los saltos por \"\" y elimina los espacios en blancos por comas en cierta posición\n",
    "    data = [line.replace(\"\\n\",\"\").split(\" \")[1:] for line in f.readlines()[6:106]]#Se leen las 100 ciudades\n",
    "    #Al hacer map recibe como parametros un lambda (función) y data (datos que recibira y hará la función lambda)\n",
    "    coords =  list(map(lambda x: [float(x[0]),float(x[1])], data))\n",
    "    distances = []\n",
    "    for i in range(len(coords)):\n",
    "        row = []\n",
    "        for j in range(len(coords)):\n",
    "            row.append(math.sqrt((coords[i][0]-coords[j][0])**2 + (coords[i][1]-coords[j][1])**2))\n",
    "        distances.append(row)\n",
    "    return distances\n"
   ]
  },
  {
   "cell_type": "markdown",
   "metadata": {},
   "source": [
    "# Algoritmo del alpinista"
   ]
  },
  {
   "cell_type": "code",
   "execution_count": 8,
   "metadata": {},
   "outputs": [],
   "source": [
    "def HillClimbing():\n",
    "    adj_mat = distancesFromCoords()#Guardamos el valor del template\n",
    "    pos = [] #Posición\n",
    "    pos2 = np.random.randint(0,len(adj_mat)-1) #Se randoniza\n",
    "    pos.append(pos2) #Posición randomo inicial\n",
    "    for i in range(len(adj_mat)):\n",
    "        if(i!=pos2): #si las posiciones son diferentes entonces tambien se agregan \n",
    "            pos.append(i)\n",
    "    pos.append(pos2) #agregamos las otras posiciones\n",
    "    d = 0 #nueva distancia\n",
    "    iterations = 0 #Iteraciones iniciales\n",
    "    \n",
    "    while(True):\n",
    "        iterations+=1\n",
    "        aux_distance = Distance(pos,adj_mat) #distancia inicial\n",
    "        pos2 = DisturbedMat(pos[:]) #esto es para generar una nueva posición perturbada\n",
    "        aux2 = Distance(pos2,adj_mat) #generamos una distancia para la nueva posición\n",
    "        #validamos si la nueva distancia es menor\n",
    "        #y si esto es verdadero la posición cambia\n",
    "        if(aux_distance>=aux2):\n",
    "            aux_distance = aux2\n",
    "            pos = pos2\n",
    "        else:\n",
    "            break\n",
    "    \n",
    "    print(\"Ruta: \", pos)\n",
    "    print (\"Iteraciones: \",iterations)\n",
    "    print (\"Distancia final: \", aux_distance)\n",
    "    print (\"Tamaño de recorrido: \", len(pos))"
   ]
  },
  {
   "cell_type": "markdown",
   "metadata": {},
   "source": [
    "## Algoritmo Recocido Simulado"
   ]
  },
  {
   "cell_type": "code",
   "execution_count": 9,
   "metadata": {},
   "outputs": [],
   "source": [
    "import random\n",
    "def SimulateAnnealing():\n",
    "    adj_mat = distancesFromCoords()\n",
    "    pos = []#Posición\n",
    "    pos2 = np.random.randint(0,len(adj_mat)-1) #Se randoniza\n",
    "    pos.append(pos2) #Posición random inicial\n",
    "    for i in range(len(adj_mat)):\n",
    "        if(i!=pos2): #si las posiciones son diferentes entonces tambien se agregan \n",
    "            pos.append(i)\n",
    "    pos.append(pos2) #agregamos las otras posiciones\n",
    "    \n",
    "    temporal = 1000 #Temperatura\n",
    "    d = 0 #nueva distancia\n",
    "    a = 0.99 #Alfa\n",
    "    \n",
    "    #Terminara cuando sea mayor a 0.1\n",
    "    while(temporal > 0.01):\n",
    "        d = d+1\n",
    "        aux_distance = Distance(pos,adj_mat) #Auxiliar para distancia\n",
    "        pos2 = DisturbedMat(pos[:]) #esto es para generar una nueva posición perturbada\n",
    "        aux2 = Distance(pos2,adj_mat) #generamos una distancia para la nueva posición\n",
    "        #validamos si la nueva distancia es menor\n",
    "        #y si esto es verdadero la posición cambia\n",
    "        if(aux2 < aux_distance):\n",
    "            pos = pos2\n",
    "            temporal = temporal * a\n",
    "        else:\n",
    "            aux3 = random.random()\n",
    "            aux4 = math.exp(-(aux2-aux_distance)/temporal)\n",
    "            \n",
    "            if (aux3< aux4):\n",
    "                pos = pos2\n",
    "                temporal = temporal * a\n",
    "                \n",
    "    \n",
    "    print(\"Ruta: \", pos)\n",
    "    print (\"Distancia Final: \", aux_distance)\n",
    "    print (\"Iteraciones: \",d)\n",
    "    print (\"Tamaño de recorrido: \", len(pos))"
   ]
  },
  {
   "cell_type": "markdown",
   "metadata": {},
   "source": [
    "### Función para la distancia actual."
   ]
  },
  {
   "cell_type": "code",
   "execution_count": 10,
   "metadata": {},
   "outputs": [],
   "source": [
    "def Distance(act_pos, mat_adj):\n",
    "    objd = 0\n",
    "    for i in range(len(act_pos)-1):\n",
    "        objd += mat_adj[act_pos[i]][act_pos[i+1]] #sumamos las distancias\n",
    "    return objd        "
   ]
  },
  {
   "cell_type": "markdown",
   "metadata": {},
   "source": [
    "### Función para la nueva posición de partida aleatorea."
   ]
  },
  {
   "cell_type": "code",
   "execution_count": 11,
   "metadata": {},
   "outputs": [],
   "source": [
    "def DisturbedMat(pos):\n",
    "    p1 = np.random.randint(1,len(pos)-2)\n",
    "    p2 = np.random.randint(1,len(pos)-2)\n",
    "    #validamos de que no se revise el mismo punto\n",
    "    \n",
    "    pdef = pos[p1]\n",
    "    pos[p1]=pos[p2]\n",
    "    pos[p2]=pdef\n",
    "    return pos"
   ]
  },
  {
   "cell_type": "markdown",
   "metadata": {},
   "source": [
    "## Llamado al menú principal"
   ]
  },
  {
   "cell_type": "code",
   "execution_count": 12,
   "metadata": {
    "scrolled": true
   },
   "outputs": [
    {
     "name": "stdout",
     "output_type": "stream",
     "text": [
      "Bienvenido al menu:\n",
      " 1. Hill Climbing\n",
      " 2. Simulated Annealing\n",
      " 3. Exit\n",
      " Escoja-> 2\n",
      "\n",
      "\n",
      "Ruta:  [70, 40, 28, 33, 82, 54, 42, 2, 45, 6, 8, 86, 60, 41, 88, 30, 79, 55, 25, 64, 65, 69, 21, 15, 52, 89, 48, 46, 90, 97, 22, 59, 19, 4, 36, 32, 75, 12, 94, 81, 43, 49, 72, 56, 11, 26, 85, 34, 61, 76, 50, 24, 84, 13, 47, 51, 77, 95, 29, 38, 67, 80, 91, 5, 83, 9, 62, 0, 92, 27, 66, 57, 68, 63, 1, 53, 39, 7, 74, 96, 3, 18, 23, 37, 98, 35, 17, 93, 87, 78, 71, 20, 73, 58, 16, 14, 10, 31, 44, 99, 70]\n",
      "Distancia Final:  36080.65711312758\n",
      "Iteraciones:  69154\n",
      "Tamaño de recorrido:  101\n",
      "Continuar? S/N -> S\n",
      "\n",
      "\n",
      "Bienvenido al menu:\n",
      " 1. Hill Climbing\n",
      " 2. Simulated Annealing\n",
      " 3. Exit\n",
      " Escoja-> 1\n",
      "\n",
      "\n",
      "Ruta:  [28, 0, 1, 2, 3, 4, 5, 6, 7, 8, 9, 10, 11, 12, 13, 14, 15, 16, 17, 18, 19, 20, 21, 22, 23, 24, 25, 26, 27, 29, 30, 31, 32, 33, 34, 35, 36, 37, 38, 39, 40, 41, 42, 43, 44, 45, 46, 47, 48, 49, 50, 51, 52, 53, 54, 55, 56, 57, 58, 59, 60, 61, 62, 63, 64, 65, 66, 67, 68, 69, 70, 71, 72, 73, 74, 75, 76, 77, 78, 79, 80, 81, 82, 83, 84, 85, 86, 87, 88, 89, 90, 91, 92, 93, 94, 95, 96, 97, 98, 99, 28]\n",
      "Iteraciones:  1\n",
      "Distancia final:  191011.39702905514\n",
      "Tamaño de recorrido:  101\n",
      "Continuar? S/N -> N\n",
      "\n",
      "\n"
     ]
    }
   ],
   "source": [
    "if __name__ == \"__main__\":\n",
    "    cont = 's'\n",
    "    while(cont == 's' or cont =='S'):\n",
    "        \n",
    "        correcto = False\n",
    "        op = 0\n",
    "        while (not correcto):\n",
    "            try:\n",
    "                op = int(input(\"Bienvenido al menu:\\n 1. Hill Climbing\\n 2. Simulated Annealing\\n 3. Exit\\n Escoja-> \"))\n",
    "                correcto = True\n",
    "                print (\"\\n\")\n",
    "            except ValueError:\n",
    "                print (\"Error, introduce un número entero\\n\")\n",
    "                \n",
    "        if(op==1):\n",
    "            HillClimbing()\n",
    "        elif(op==2):\n",
    "            SimulateAnnealing()\n",
    "            \n",
    "        elif(op==3):\n",
    "            print(\"\\nGracias por usar nuestro programa, vuelva pronto!!!\")\n",
    "            break\n",
    "        \n",
    "        else:\n",
    "            print (\"No existe el numero digitado\\n\")\n",
    "            \n",
    "        cont = str(input(\"Continuar? S/N -> \"))\n",
    "        print (\"\\n\")"
   ]
  }
 ],
 "metadata": {
  "kernelspec": {
   "display_name": "Python 3",
   "language": "python",
   "name": "python3"
  },
  "language_info": {
   "codemirror_mode": {
    "name": "ipython",
    "version": 3
   },
   "file_extension": ".py",
   "mimetype": "text/x-python",
   "name": "python",
   "nbconvert_exporter": "python",
   "pygments_lexer": "ipython3",
   "version": "3.7.2"
  }
 },
 "nbformat": 4,
 "nbformat_minor": 4
}
